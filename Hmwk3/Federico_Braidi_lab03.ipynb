{
 "cells": [
  {
   "cell_type": "markdown",
   "metadata": {},
   "source": [
    "# Machine Learning LAB 3: CLUSTERING - K-means and linkage-based clustering\n",
    "\n",
    "Course 2023/24: *M. Caligiuri*, *P. Talli*, *F. Lincetto*, *F. Chiariotti*, *P. Zanuttigh*\n",
    "\n",
    "The notebook contains some simple tasks about **CLUSTERING**.\n",
    "\n",
    "Complete all the **required code sections** and **answer to all the questions**.\n",
    "\n",
    "### IMPORTANT for the evaluation score:\n",
    "\n",
    "1. **Read carefully all cells** and **follow the instructions**.\n",
    "2. **Re-run all the code from the beginning** to obtain the results for the final version of your notebook, since this is the way we will do it before evaluating your notebooks.\n",
    "3. Make sure to fill the code in the appropriate places **without modifying the template**, otherwise you risk breaking later cells.\n",
    "4. Please **submit the jupyter notebook file (.ipynb)**, do not submit python scripts (.py) or plain text files. **Make sure that it runs fine with the restat&run all command**.\n",
    "5. **Answer the questions in the appropriate cells**, not in the ones where the question is presented."
   ]
  },
  {
   "cell_type": "markdown",
   "metadata": {},
   "source": [
    "## Image segmentation with k-means\n",
    "\n",
    "In this laboratory we will use the k-means algorithm to cluster a dataset of 3D points. We will apply **K-means** to the problem of image compression and image segmentation. The main idea is to apply k-means to the colors of the pixels of an image to select the k most representative colors. Then, we will replace each pixel color with the closest representative color. This will allow us to reduce the number of colors in the image and compress it. A color is a vector of 3 values (R,G,B) that represent the amount of red, green and blue in the color; this implies that each pixel is a point in a 3D space.\n",
    "\n",
    "In particular you are going to implement the k-means algorithm from scratch and to compare the results with the implementation already present in the sklearn library.\n",
    "\n",
    "In the second part of the laboratory we will use a **linkage-based** clustering algorithm to cluster a dataset of 2D points and compare it with the results obtained with k-means.\n",
    "\n",
    "---"
   ]
  },
  {
   "cell_type": "markdown",
   "metadata": {},
   "source": [
    "## Preliminary step\n",
    "\n",
    "Place your **name** and **ID number** (matricola) in the cell below. <br>\n",
    "Also recall to **save the file as Surname_Name_LAB02.ipynb**, failure to do so will incur in a **lower grade**."
   ]
  },
  {
   "cell_type": "markdown",
   "metadata": {},
   "source": [
    "**Student name**: Federico Braidi\n",
    "\n",
    "**ID Number**: 2122169"
   ]
  },
  {
   "cell_type": "markdown",
   "metadata": {},
   "source": [
    "---"
   ]
  },
  {
   "cell_type": "markdown",
   "metadata": {},
   "source": [
    "## Import all the necessary Python libraries"
   ]
  },
  {
   "cell_type": "code",
   "execution_count": 1,
   "metadata": {},
   "outputs": [],
   "source": [
    "%matplotlib inline  \n",
    "\n",
    "import numpy as np\n",
    "import typing as tp\n",
    "import matplotlib.pyplot as plt\n",
    "from sklearn import metrics\n",
    "from sklearn.cluster import KMeans, AgglomerativeClustering\n",
    "from matplotlib import pyplot as plt"
   ]
  },
  {
   "cell_type": "markdown",
   "metadata": {},
   "source": [
    "---"
   ]
  },
  {
   "cell_type": "markdown",
   "metadata": {},
   "source": [
    "## Define the heplper functions\n",
    "\n",
    "In this section you will find some helper functions (some already implemented, some to be implemented by you) that will be used in the following sections.\n",
    "1. `img_plot` -> function to plot an image with name and dimension as title,\n",
    "2. `scatter_plot` -> function to plot a scatter plot of the data,\n",
    "3. `scatter_plot_2d` -> function to plot a 2D scatter plot of the data,\n",
    "4. `error_plot` -> function to plot the error of the k-means algorithm over the iterations,\n",
    "5. `cluster_plot` -> function to plot the obtained clusters.\n",
    "\n",
    "**DO NOT CHANGE THE PRE-WRITTEN CODE UNLESS OTHERWISE SPECIFIED**"
   ]
  },
  {
   "cell_type": "code",
   "execution_count": null,
   "metadata": {},
   "outputs": [],
   "source": [
    "def img_plot(img: np.ndarray, title: str = None) -> None:\n",
    "    \"\"\"\n",
    "    Plot an image\n",
    "    :param img: image to plot\n",
    "    :param title: title of the plot\n",
    "    \"\"\"\n",
    "    \n",
    "    plt.figure()\n",
    "    plt.imshow(img)\n",
    "    plt.axis('off')\n",
    "    if title is not None:\n",
    "        plt.title(f'{title}: {img.shape}')\n",
    "    plt.tight_layout()\n",
    "    plt.show()\n",
    "    plt.close()"
   ]
  },
  {
   "cell_type": "code",
   "execution_count": null,
   "metadata": {},
   "outputs": [],
   "source": [
    "def scatter_plot(data: np.ndarray, clusters: np.ndarray = None, centers: np.ndarray = None, title: str = None) -> None:\n",
    "    \"\"\"\n",
    "    Plot a scatter plot of the data\n",
    "    :param data: data to plot\n",
    "    :param clusters: cluster labels\n",
    "    :param centers: cluster centers\n",
    "    :param title: title of the plot\n",
    "    \"\"\"\n",
    "    \n",
    "    fig = plt.figure()\n",
    "    axis = fig.add_subplot(1, 1, 1, projection=\"3d\")\n",
    "    axis.set_xlabel(\"Red\")\n",
    "    axis.set_ylabel(\"Green\")\n",
    "    axis.set_zlabel(\"Blue\", rotation=90, labelpad=-1)\n",
    "    if title is not None:\n",
    "        plt.title(title)\n",
    "    if clusters is None:\n",
    "        axis.scatter(data[:,0], data[:,1], data[:,2], marker=\"o\", c=data, s=5)\n",
    "    else:\n",
    "        axis.scatter(data[:,0], data[:,1], data[:,2], marker=\"o\", c=clusters, s=1, cmap='viridis', zorder=0, alpha=0.5 )\n",
    "    if centers is not None:\n",
    "        axis.scatter(centers[:,0], centers[:,1], centers[:,2], c='red', s=400, zorder=10)\n",
    "    plt.tight_layout()\n",
    "    plt.show()\n",
    "    plt.close()"
   ]
  },
  {
   "cell_type": "code",
   "execution_count": null,
   "metadata": {},
   "outputs": [],
   "source": [
    "def scatter_plot_2d(x: np.ndarray, y: np.ndarray = None, centers: np.ndarray = None, title: str = None) -> None:\n",
    "    \"\"\"\n",
    "    Plot a scatter plot of the data\n",
    "    :param x: data to plot\n",
    "    :param y: cluster labels\n",
    "    :param centers: cluster centers\n",
    "    :param title: title of the plot\n",
    "    \"\"\"\n",
    "\n",
    "    fig = plt.figure()\n",
    "    plt.scatter(x[:,0], x[:,1], c=y, marker=\"o\", s=10, cmap='viridis')\n",
    "    plt.scatter(centers[:,0], centers[:,1], c='black', s=200, alpha=0.5)\n",
    "    if title is not None:\n",
    "        plt.title(title)\n",
    "    plt.tight_layout()\n",
    "    plt.show()\n",
    "    plt.close()"
   ]
  },
  {
   "cell_type": "code",
   "execution_count": null,
   "metadata": {},
   "outputs": [],
   "source": [
    "def error_plot(errors: np.ndarray, labels: np.ndarray = None) -> None:\n",
    "    \"\"\"\n",
    "    Plot the errors over the iterations\n",
    "    :param errors: errors to plot\n",
    "    \"\"\"\n",
    "    \n",
    "    if labels is None:\n",
    "        plt.plot(errors[1:-1])\n",
    "        plt.plot(errors[1:-1], 'ro')\n",
    "    else:\n",
    "        plt.plot(labels, errors)\n",
    "        plt.plot(labels, errors, 'ro')\n",
    "    plt.title('Error over iterations')\n",
    "    plt.ylabel('Error')\n",
    "    plt.xlabel('Iteration #')\n",
    "    plt.grid()\n",
    "    plt.tight_layout()\n",
    "    plt.show()\n",
    "    plt.close()"
   ]
  },
  {
   "cell_type": "code",
   "execution_count": null,
   "metadata": {},
   "outputs": [],
   "source": [
    "def cluster_plot(labels: np.ndarray, x: np.ndarray, title: str = None) -> None:\n",
    "    \"\"\"\n",
    "    Plot the clusters\n",
    "    :param labels: cluster labels\n",
    "    :param x: data\n",
    "    :param title: title of the plot\n",
    "    \"\"\"\n",
    "    \n",
    "    # Black removed and is used for noise instead.\n",
    "    unique_labels = set(labels)\n",
    "    colors = [plt.cm.Spectral(each)\n",
    "            for each in np.linspace(0, 1, len(unique_labels))]\n",
    "    for k, col in zip(unique_labels, colors):\n",
    "        if k == -1:\n",
    "            # Black used for noise.\n",
    "            col = [0, 0, 0, 1]\n",
    "\n",
    "        class_member_mask = (labels == k)\n",
    "\n",
    "        xy = x[class_member_mask ]\n",
    "        plt.plot(xy[:, 0], xy[:, 1], 'o', markerfacecolor=tuple(col),\n",
    "                markeredgecolor='k', markersize=14)\n",
    "\n",
    "        xy = x[class_member_mask ]\n",
    "        plt.plot(xy[:, 0], xy[:, 1], 'o', markerfacecolor=tuple(col),\n",
    "                markeredgecolor='k', markersize=6)\n",
    "\n",
    "    if title is not None:\n",
    "        plt.title(title)\n",
    "    plt.tight_layout()\n",
    "    plt.show()\n",
    "    plt.close()"
   ]
  },
  {
   "cell_type": "markdown",
   "metadata": {},
   "source": [
    "---"
   ]
  },
  {
   "cell_type": "markdown",
   "metadata": {},
   "source": [
    "## A) K-means clustering\n",
    "\n",
    "### TO DO (A.0)\n",
    "    \n",
    "**Set** the random **seed** using your **ID**. If you need to change it for testing add a constant explicitly, eg.: 1234567 + 1"
   ]
  },
  {
   "cell_type": "code",
   "execution_count": null,
   "metadata": {},
   "outputs": [],
   "source": [
    "# Fix your ID (\"numero di matricola\") and the seed for random generator\n",
    "# as usual you can try different seeds by adding a constant to the number:\n",
    "# ID = 1234567 + X\n",
    "ID = 2122169 \n",
    "np.random.seed(ID)"
   ]
  },
  {
   "cell_type": "code",
   "execution_count": null,
   "metadata": {},
   "outputs": [],
   "source": [
    "# Load the provided images and display them (if you like you can experiment with other images)\n",
    "# To load the images use the function plt.imread(<path_to_iamge>)\n",
    "landscape = plt.imread(\"./data/landscape.jpg\")\n",
    "reindeer = plt.imread(\"./data/reindeer.jpg\")\n",
    "santaclaus = plt.imread(\"./data/santaclaus2.jpg\")\n",
    "\n",
    "# Plot the images with their shapes\n",
    "# Sugestion: use the function img_plot()\n",
    "img_plot(landscape,\"Landscape\")\n",
    "img_plot(reindeer,\"Reindeer\")\n",
    "img_plot(santaclaus,\"Santa Claus\")"
   ]
  },
  {
   "cell_type": "markdown",
   "metadata": {},
   "source": [
    "We are going to start by using the Santa Claus image.\n"
   ]
  },
  {
   "cell_type": "code",
   "execution_count": null,
   "metadata": {},
   "outputs": [],
   "source": [
    "# Reshape the data to a matrix of num_pixels x 3 \n",
    "# (divide by 255 to have colors in [0 1] range for plotting functions of sklearn)\n",
    "santaclaus_my = np.reshape(santaclaus,(santaclaus.shape[0]*santaclaus.shape[1],santaclaus.shape[2]))\n",
    "santaclaus_my = santaclaus_my/255\n",
    "santaclaus_sk = santaclaus_my.copy()\n",
    "\n",
    "# Print the shape of the data and the min and max values of the pixels\n",
    "print(santaclaus_my.shape)\n",
    "print(\"Max value of Red: \" + str(santaclaus_my[:,0].max()))\n",
    "print(\"Min value of Red: \" + str(santaclaus_my[:,0].min()))\n",
    "print(\"Max value of Green: \" + str(santaclaus_my[:,1].max()))\n",
    "print(\"Min value of Green: \" + str(santaclaus_my[:,1].min()))\n",
    "print(\"Max value of Blue: \" + str(santaclaus_my[:,2].max()))\n",
    "print(\"Min value of Blue: \" + str(santaclaus_my[:,2].min()))"
   ]
  },
  {
   "cell_type": "markdown",
   "metadata": {},
   "source": [
    "Plot the points in the 3-dimensional space with normalized intervals between 0 and 1 (corresponding to the three channels of the image, i.e. Red Green and Blue)"
   ]
  },
  {
   "cell_type": "code",
   "execution_count": null,
   "metadata": {},
   "outputs": [],
   "source": [
    "# Sugestion: use the function scatter_plot()\n",
    "scatter_plot(santaclaus_my)"
   ]
  },
  {
   "cell_type": "markdown",
   "metadata": {},
   "source": [
    "### TO DO (A.1)\n",
    "Implement the k-means algorithm manually (**do not use the kmeans function of sklearn and do not download implementations from other web sources**). The inputs to the function is the set of vectors to be clustered and the number of clusters. The output must contain the clusters barycenters, a vector associating each data point to the corresponding cluster and the error (value of the cost function) at each iteration.\n",
    "Additionally, fix a maximum number of iterations of the k-means algorithm (e.g., 50).\n",
    "\n",
    "Be careful about the initalization, you can use some random points from the training set, or get random values but ensure they are in the proper range. Poor initalizations can lead to the failure of the algorithm (in particular check that no cluster is initialized as empty, otherwise the algorithm can not update it)."
   ]
  },
  {
   "cell_type": "code",
   "execution_count": null,
   "metadata": {},
   "outputs": [],
   "source": [
    "def my_kmeans(points: np.ndarray, k: int, max_iters: int = 50) -> tp.Tuple[np.ndarray, np.ndarray, list]:\n",
    "    \"\"\"\n",
    "    Perform K-means clustering\n",
    "    :param points: data points\n",
    "    :param k: number of clusters\n",
    "    :param max_iters: maximum number of iterations\n",
    "    \"\"\"\n",
    "\n",
    "    # Generate random centers\n",
    "    # use sigma and mean to ensure it represent the whole data\n",
    "    \n",
    "    sigma = np.std(points, axis=0)\n",
    "    mean = np.mean(points, axis=0)\n",
    "    centroids = np.zeros((k,3))\n",
    "    for i in range(k):\n",
    "        centroids[i,:] = [np.random.normal(loc = mean[0], scale = sigma[0]),np.random.normal(loc = mean[1], scale = sigma[1]),np.random.normal(loc = mean[2], scale = sigma[2])]\n",
    "\n",
    "    #add control that every cluster is not empty\n",
    "    prev_error = 100000\n",
    "    error = [9999]\n",
    "    \n",
    "    # Iterate until the estimate of that center stays the same or max iteration are reached\n",
    "    iters = 0\n",
    "    while (error[iters] != prev_error) and iters < max_iters:\n",
    "        # Measure the distance to every center\n",
    "        dist = np.zeros((len(points),k))\n",
    "        for i in range(len(points)):\n",
    "            dist[i] = np.sqrt(np.sum((points[i]-centroids)**2,axis=1))\n",
    "        # Assign all training data to closest center\n",
    "        clusters = np.append(points, np.argmin(dist, axis=1)[:,np.newaxis], axis = 1)\n",
    "        # Calculate mean for every cluster and update the center\n",
    "        for i in range(k):\n",
    "            mean = np.mean(clusters[clusters[:,3]==i],axis=0)\n",
    "            centroids[i] = mean[0:3]\n",
    "        # Update the error\n",
    "        prev_error = error[iters]\n",
    "        error_tmp = 0\n",
    "        for i in range(k):\n",
    "            for point in clusters[clusters[:,3] == i]:\n",
    "                error_tmp += np.linalg.norm(point[0:3]-centroids[i])**2\n",
    "        error.append(error_tmp)\n",
    "        #error = np.append(error,np.sum(((dist[:,np.argmin(dist, axis=1)[:,np.newaxis]])[:,0])**2))\n",
    "        # Update the iteration counter\n",
    "        iters += 1\n",
    "\n",
    "    return centroids, clusters, error"
   ]
  },
  {
   "cell_type": "markdown",
   "metadata": {},
   "source": [
    "### TO DO (A.2)\n",
    "\n",
    "Now try the function you developed on the Santaclaus image with three clusters (k=3). \n",
    "\n",
    "Then plot the data points in the 3-dimensional space, each point must be coloured based on the membership to one of the clusters. Additionally, plot the respective clusters centroids (use a different shape, size or color to highlight the centroids)."
   ]
  },
  {
   "cell_type": "code",
   "execution_count": null,
   "metadata": {},
   "outputs": [],
   "source": [
    "# Run your K-means function on the data\n",
    "centroids,clusters,error = my_kmeans(points=santaclaus_my,k=3)\n",
    "\n",
    "# Print the errors:\n",
    "print(error)\n",
    "\n",
    "# Plot the results\n",
    "scatter_plot(data=clusters[:,0:3],clusters=clusters[:,3],centers=centroids)"
   ]
  },
  {
   "cell_type": "markdown",
   "metadata": {},
   "source": [
    "### TO DO (A.3) \n",
    "Plot the value of the error versus the number of iterations"
   ]
  },
  {
   "cell_type": "code",
   "execution_count": null,
   "metadata": {},
   "outputs": [],
   "source": [
    "# Sugestion: use the function error_plot()\n",
    "error_plot(errors=error)"
   ]
  },
  {
   "cell_type": "markdown",
   "metadata": {},
   "source": [
    "### TO DO (A.4)\n",
    "Now use the k-means function provided in sklearn. Pass to the function the number of clusters and use multiple random initializations (n_init parameter). Go to the documentation page for further details"
   ]
  },
  {
   "cell_type": "code",
   "execution_count": null,
   "metadata": {},
   "outputs": [],
   "source": [
    "# Define the K-means model\n",
    "km = KMeans(n_clusters=3,n_init=10)\n",
    "\n",
    "# Fit the model to the data\n",
    "km.fit(X=santaclaus_sk)\n",
    "\n",
    "# Get the cluster centers\n",
    "centers=km.cluster_centers_"
   ]
  },
  {
   "cell_type": "markdown",
   "metadata": {},
   "source": [
    "Perform the same plot as above but with the output of the k-means function provided in sklearn."
   ]
  },
  {
   "cell_type": "code",
   "execution_count": null,
   "metadata": {},
   "outputs": [],
   "source": [
    "scatter_plot(data=santaclaus_sk,clusters=km.fit_predict(X=santaclaus_sk),centers=centers)"
   ]
  },
  {
   "cell_type": "markdown",
   "metadata": {},
   "source": [
    "### TO DO (A.Q1) [Answare the following] \n",
    "\n",
    "Compare the results obtained with your implementation and with k-means from sklearn. Do you observe any differences, *i.e.*, do the two plots match?"
   ]
  },
  {
   "cell_type": "markdown",
   "metadata": {},
   "source": [
    "**ANSWER A.Q2:** Answer here"
   ]
  },
  {
   "cell_type": "markdown",
   "metadata": {},
   "source": [
    "### TO DO (A.5)\n",
    "\n",
    "Now display the segmented image based on the two clusters found above with the k-means functions by sklearn."
   ]
  },
  {
   "cell_type": "code",
   "execution_count": null,
   "metadata": {},
   "outputs": [],
   "source": [
    "# Extarct the color values of the centers\n",
    "center_color = centers\n",
    "santaclaus_sk = center_color[km.fit_predict(X=santaclaus_sk)]\n",
    "\n",
    "# Reshape the data to the original image shape\n",
    "santaclaus_sk_reshaped = np.reshape(santaclaus_sk,(santaclaus.shape[0],santaclaus.shape[1],santaclaus.shape[2]))\n",
    "\n",
    "# Plot the recolored image\n",
    "img_plot(santaclaus_sk_reshaped)"
   ]
  },
  {
   "cell_type": "markdown",
   "metadata": {},
   "source": [
    "Now display the segmented image based on the two clusters found above with the k-means functions implemented by yourselves."
   ]
  },
  {
   "cell_type": "code",
   "execution_count": null,
   "metadata": {},
   "outputs": [],
   "source": [
    "# Extract the color values of the centers\n",
    "center_color = centroids\n",
    "santaclaus_my = center_color[clusters[:,3].astype(int)]\n",
    "\n",
    "# Reshape the data to the original image shape\n",
    "santaclaus_my_reshaped = np.reshape(santaclaus_my,(santaclaus.shape[0],santaclaus.shape[1],santaclaus.shape[2]))\n",
    "\n",
    "# Plot the recolored image\n",
    "img_plot(santaclaus_my_reshaped)"
   ]
  },
  {
   "cell_type": "markdown",
   "metadata": {},
   "source": [
    "### TO DO (A.Q2) [Answare the following]\n",
    "\n",
    "What do you observe? Do you think clustering is useful for image segmenation? And for image compression? Comment your answer."
   ]
  },
  {
   "cell_type": "markdown",
   "metadata": {},
   "source": [
    "**ANSWER A.Q1:** Answer here"
   ]
  },
  {
   "cell_type": "markdown",
   "metadata": {},
   "source": [
    "### TO DO (A.6)\n",
    "\n",
    "Now load the landscape image (optional: try also with the reindeer image) and segment it using kmeans with k varying from 2 to 15 clusters. You can use the sklearn implementation.\n",
    "\n",
    "Then plot the resulting data points in the 3-dimensional space, each point must be colored based on the cluster membership."
   ]
  },
  {
   "cell_type": "code",
   "execution_count": null,
   "metadata": {},
   "outputs": [],
   "source": [
    "# Reshape the data to a matrix of total_num_pixels x 3\n",
    "reindeer_sk = np.reshape(reindeer,(reindeer.shape[0]*reindeer.shape[1],reindeer.shape[2]))\n",
    "reindeer_sk = reindeer_sk/255\n",
    "\n",
    "# Print the shape of the data and the min and max values of the pixels\n",
    "print(reindeer_sk.shape)\n",
    "print(\"Max value of Red: \" + str(reindeer_sk[:,0].max()))\n",
    "print(\"Min value of Red: \" + str(reindeer_sk[:,0].min()))\n",
    "print(\"Max value of Green: \" + str(reindeer_sk[:,1].max()))\n",
    "print(\"Min value of Green: \" + str(reindeer_sk[:,1].min()))\n",
    "print(\"Max value of Blue: \" + str(reindeer_sk[:,2].max()))\n",
    "print(\"Min value of Blue: \" + str(reindeer_sk[:,2].min()))\n",
    "\n",
    "# Cycle over different values of K and plot the results for each value\n",
    "print('\\nK-means clustering with different values of K (2-15):')\n",
    "inertia = list()\n",
    "for k in range(2,16):\n",
    "    # Define the K-means model\n",
    "    km = KMeans(n_clusters=k, n_init=10)\n",
    "\n",
    "    # Fit the model to the data\n",
    "    km.fit(X=reindeer_sk)\n",
    "\n",
    "    # Get the cluster centers\n",
    "    centers = km.cluster_centers_\n",
    "\n",
    "    # Extarct the color values of the centers\n",
    "    center_color = centers\n",
    "    reindeer_sk_recolored = center_color[km.labels_]\n",
    "\n",
    "    # Reshape the data to the original image shape\n",
    "    reindeer_sk_recolored = np.reshape(reindeer_sk_recolored,(reindeer.shape[0],reindeer.shape[1],reindeer.shape[2]))\n",
    "\n",
    "    # Update the inertia\n",
    "    inertia.append(km.inertia_)\n",
    "    \n",
    "    # Plot the scatter plot and the ricolored imag\n",
    "    scatter_plot(data=reindeer_sk,clusters=km.labels_,centers=centers)\n",
    "\n",
    "    # Plot the recolored image\n",
    "    img_plot(reindeer_sk_recolored)"
   ]
  },
  {
   "cell_type": "code",
   "execution_count": null,
   "metadata": {},
   "outputs": [],
   "source": [
    "# Reshape the data to a matrix of total_num_pixels x 3\n",
    "landscape_sk = np.reshape(landscape,(landscape.shape[0]*landscape.shape[1],landscape.shape[2]))\n",
    "landscape_sk = landscape_sk/255\n",
    "\n",
    "# Print the shape of the data and the min and max values of the pixels\n",
    "print(landscape_sk.shape)\n",
    "print(\"Max value of Red: \" + str(landscape_sk[:,0].max()))\n",
    "print(\"Min value of Red: \" + str(landscape_sk[:,0].min()))\n",
    "print(\"Max value of Green: \" + str(landscape_sk[:,1].max()))\n",
    "print(\"Min value of Green: \" + str(landscape_sk[:,1].min()))\n",
    "print(\"Max value of Blue: \" + str(landscape_sk[:,2].max()))\n",
    "print(\"Min value of Blue: \" + str(landscape_sk[:,2].min()))\n",
    "\n",
    "# Cycle over different values of K and plot the results for each value\n",
    "print('\\nK-means clustering with different values of K (2-15):')\n",
    "inertia = list()\n",
    "for k in range(2,16):\n",
    "    # Define the K-means model\n",
    "    km = KMeans(n_clusters=k, n_init=10)\n",
    "\n",
    "    # Fit the model to the data\n",
    "    km.fit(X=landscape_sk)\n",
    "\n",
    "    # Get the cluster centers\n",
    "    centers = km.cluster_centers_\n",
    "\n",
    "    # Extarct the color values of the centers\n",
    "    center_color = centers\n",
    "    landscape_sk_recolored = center_color[km.labels_]\n",
    "\n",
    "    # Reshape the data to the original image shape\n",
    "    landscape_sk_recolored = np.reshape(landscape_sk_recolored,(landscape.shape[0],landscape.shape[1],landscape.shape[2]))\n",
    "\n",
    "    # Update the inertia\n",
    "    inertia.append(km.inertia_)\n",
    "    \n",
    "    # Plot the scatter plot and the ricolored imag\n",
    "    scatter_plot(data=landscape_sk,clusters=km.labels_,centers=centers)\n",
    "\n",
    "    # Plot the recolored image\n",
    "    img_plot(landscape_sk_recolored)"
   ]
  },
  {
   "cell_type": "markdown",
   "metadata": {},
   "source": [
    "### TO DO (A.7)\n",
    "\n",
    "Plot for different values of k (e.g. k between 2 and 15) the respective error of the kmeans algorithm "
   ]
  },
  {
   "cell_type": "code",
   "execution_count": null,
   "metadata": {},
   "outputs": [],
   "source": [
    "fig, ax1 = plt.subplots()\n",
    "\n",
    "ax1.plot([i for i in range(2, 16)], inertia)\n",
    "ax1.set_title('Inertia vs. N. of Clusters')\n",
    "ax1.set_xlabel('Number of Clusters')\n",
    "ax1.set_ylabel('Inertia')"
   ]
  },
  {
   "cell_type": "markdown",
   "metadata": {},
   "source": [
    "### TO DO (AQ.3) [Answare the following]\n",
    "\n",
    "Compare the results with different values of k, what do you observe? \n",
    "\n",
    "Analyze also the error, which one do you think is the optimal value of k?\n",
    "\n",
    "Is there a single, clear answer?"
   ]
  },
  {
   "cell_type": "markdown",
   "metadata": {},
   "source": [
    "**ANSWER A.Q3:** Answer here"
   ]
  },
  {
   "cell_type": "markdown",
   "metadata": {},
   "source": [
    "---"
   ]
  },
  {
   "cell_type": "markdown",
   "metadata": {},
   "source": [
    "## B) Linkage-based clustering\n",
    "\n",
    "The second part of the assignment concern instead linkage-based clustering. We will use the AgglomerativeClustering module of sklearn. "
   ]
  },
  {
   "cell_type": "markdown",
   "metadata": {},
   "source": [
    "### TO DO (B.0)\n",
    "\n",
    "Load the sample dataset located at `data/moon_data.npz`"
   ]
  },
  {
   "cell_type": "code",
   "execution_count": null,
   "metadata": {},
   "outputs": [],
   "source": [
    "# Load sample data\n",
    "data = np.load(\"./data/moon_data.npz\")\n",
    "\n",
    "# Extract data\n",
    "x = data['X']\n",
    "labels_true = data['labels_true']\n",
    "print(x)"
   ]
  },
  {
   "cell_type": "markdown",
   "metadata": {},
   "source": [
    "### TO DO (B.1)\n",
    "\n",
    "Now exploit the AgglomerativeClustering algorithm from the sklearn library on the provided sample data points. Use the \"single\" linkage type that correspond to the minimum distance criteria seen in the lectures and 2 clusters. Notice that the \"single\" option has been introduced recently in sklearn, if you get an error ensure you have a recent version of the library. Plot the resulting clustering."
   ]
  },
  {
   "cell_type": "code",
   "execution_count": null,
   "metadata": {},
   "outputs": [],
   "source": [
    "# Compute Agglomerative Clustering\n",
    "# Define the Agglomerative Clustering model\n",
    "ac=AgglomerativeClustering(n_clusters=2, linkage='single')\n",
    "\n",
    "# Fit the model to the data\n",
    "ac.fit(X=x)\n",
    "\n",
    "# Compute the number of clusters in labels, ignoring noise if present.\n",
    "print(ac.n_clusters_)\n",
    "\n",
    "# Print the results\n",
    "print(ac.labels_)"
   ]
  },
  {
   "cell_type": "code",
   "execution_count": null,
   "metadata": {},
   "outputs": [],
   "source": [
    "# Plot result \n",
    "# Sugestion: use the function cluster_plot()\n",
    "cluster_plot(labels=ac.labels_,x=x)"
   ]
  },
  {
   "cell_type": "markdown",
   "metadata": {},
   "source": [
    "### TO DO (B.2)\n",
    "\n",
    "Now try the KMeans with two clusters on the same dataset we used for the AgglomerativeClustering algorithm."
   ]
  },
  {
   "cell_type": "code",
   "execution_count": null,
   "metadata": {},
   "outputs": [],
   "source": [
    "# Define the K-means model\n",
    "km = KMeans(n_clusters=2, n_init=10)\n",
    "\n",
    "# Fit the model to the data\n",
    "km.fit(X=x)\n",
    "\n",
    "# Get the cluster centers\n",
    "centers = km.cluster_centers_\n",
    "\n",
    "# Extarct the color values of the centers\n",
    "colors = centers\n",
    "\n",
    "# Plot the results\n",
    "# Sugestion: use the function scatter_plot_2d()\n",
    "scatter_plot_2d(x=x,y=km.labels_,centers=centers)"
   ]
  },
  {
   "cell_type": "markdown",
   "metadata": {},
   "source": [
    "### TO DO (B.Q1) [Answare the following]\n",
    "\n",
    "Compare the results of K-means and Agglomerative Clustering and explain what you observe and why?"
   ]
  },
  {
   "cell_type": "markdown",
   "metadata": {},
   "source": [
    "**ANSWER B.Q1:** Answer here"
   ]
  },
  {
   "cell_type": "markdown",
   "metadata": {},
   "source": [
    "---"
   ]
  }
 ],
 "metadata": {
  "interpreter": {
   "hash": "53108ee2c702583927ca0c77e82f621dc2b0eae98652c0ffab9887bc99f95776"
  },
  "kernelspec": {
   "display_name": "Python 3.10.6 64-bit",
   "name": "python3"
  },
  "language_info": {
   "codemirror_mode": {
    "name": "ipython",
    "version": 3
   },
   "file_extension": ".py",
   "mimetype": "text/x-python",
   "name": "python",
   "nbconvert_exporter": "python",
   "pygments_lexer": "ipython3",
   "version": "3.10.11"
  }
 },
 "nbformat": 4,
 "nbformat_minor": 2
}
