{
 "cells": [
  {
   "cell_type": "markdown",
   "source": [
    "# Machine Learning LAB 3: CLUSTERING - K-means and linkage-based clustering\n",
    "\n",
    "Course 2023/24: *M. Caligiuri*, *P. Talli*, *F. Lincetto*, *F. Chiariotti*, *P. Zanuttigh*\n",
    "\n",
    "The notebook contains some simple tasks about **CLUSTERING**.\n",
    "\n",
    "Complete all the **required code sections** and **answer to all the questions**.\n",
    "\n",
    "### IMPORTANT for the evaluation score:\n",
    "\n",
    "1. **Read carefully all cells** and **follow the instructions**.\n",
    "2. **Re-run all the code from the beginning** to obtain the results for the final version of your notebook, since this is the way we will do it before evaluating your notebooks.\n",
    "3. Make sure to fill the code in the appropriate places **without modifying the template**, otherwise you risk breaking later cells.\n",
    "4. Please **submit the jupyter notebook file (.ipynb)**, do not submit python scripts (.py) or plain text files. **Make sure that it runs fine with the restat&run all command**.\n",
    "5. **Answer the questions in the appropriate cells**, not in the ones where the question is presented."
   ],
   "metadata": {}
  },
  {
   "cell_type": "markdown",
   "source": [
    "## Image segmentation with k-means\n",
    "\n",
    "In this laboratory we will use the k-means algorithm to cluster a dataset of 3D points. We will apply **K-means** to the problem of image compression and image segmentation. The main idea is to apply k-means to the colors of the pixels of an image to select the k most representative colors. Then, we will replace each pixel color with the closest representative color. This will allow us to reduce the number of colors in the image and compress it. A color is a vector of 3 values (R,G,B) that represent the amount of red, green and blue in the color; this implies that each pixel is a point in a 3D space.\n",
    "\n",
    "In particular you are going to implement the k-means algorithm from scratch and to compare the results with the implementation already present in the sklearn library.\n",
    "\n",
    "In the second part of the laboratory we will use a **linkage-based** clustering algorithm to cluster a dataset of 2D points and compare it with the results obtained with k-means.\n",
    "\n",
    "---"
   ],
   "metadata": {}
  },
  {
   "cell_type": "markdown",
   "source": [
    "## Preliminary step\n",
    "\n",
    "Place your **name** and **ID number** (matricola) in the cell below. <br>\n",
    "Also recall to **save the file as Surname_Name_LAB02.ipynb**, failure to do so will incur in a **lower grade**."
   ],
   "metadata": {}
  },
  {
   "cell_type": "markdown",
   "source": [
    "**Student name**: Federico Braidi\n",
    "\n",
    "**ID Number**: 2122169"
   ],
   "metadata": {}
  },
  {
   "cell_type": "markdown",
   "source": [
    "---"
   ],
   "metadata": {}
  },
  {
   "cell_type": "markdown",
   "source": [
    "## Import all the necessary Python libraries"
   ],
   "metadata": {}
  },
  {
   "cell_type": "code",
   "execution_count": null,
   "source": [
    "%matplotlib inline  \r\n",
    "\r\n",
    "import numpy as np\r\n",
    "import typing as tp\r\n",
    "import matplotlib.pyplot as plt\r\n",
    "from sklearn import metrics\r\n",
    "from sklearn.cluster import KMeans, AgglomerativeClustering\r\n",
    "from matplotlib import pyplot as plt"
   ],
   "outputs": [],
   "metadata": {}
  },
  {
   "cell_type": "markdown",
   "source": [
    "---"
   ],
   "metadata": {}
  },
  {
   "cell_type": "markdown",
   "source": [
    "## Define the heplper functions\n",
    "\n",
    "In this section you will find some helper functions (some already implemented, some to be implemented by you) that will be used in the following sections.\n",
    "1. `img_plot` -> function to plot an image with name and dimension as title,\n",
    "2. `scatter_plot` -> function to plot a scatter plot of the data,\n",
    "3. `scatter_plot_2d` -> function to plot a 2D scatter plot of the data,\n",
    "4. `error_plot` -> function to plot the error of the k-means algorithm over the iterations,\n",
    "5. `cluster_plot` -> function to plot the obtained clusters.\n",
    "\n",
    "**DO NOT CHANGE THE PRE-WRITTEN CODE UNLESS OTHERWISE SPECIFIED**"
   ],
   "metadata": {}
  },
  {
   "cell_type": "code",
   "execution_count": null,
   "source": [
    "def img_plot(img: np.ndarray, title: str = None) -> None:\r\n",
    "    \"\"\"\r\n",
    "    Plot an image\r\n",
    "    :param img: image to plot\r\n",
    "    :param title: title of the plot\r\n",
    "    \"\"\"\r\n",
    "    \r\n",
    "    plt.figure()\r\n",
    "    plt.imshow(img)\r\n",
    "    plt.axis('off')\r\n",
    "    if title is not None:\r\n",
    "        plt.title(f'{title}: {img.shape}')\r\n",
    "    plt.tight_layout()\r\n",
    "    plt.show()\r\n",
    "    plt.close()"
   ],
   "outputs": [],
   "metadata": {}
  },
  {
   "cell_type": "code",
   "execution_count": null,
   "source": [
    "def scatter_plot(data: np.ndarray, clusters: np.ndarray = None, centers: np.ndarray = None, title: str = None) -> None:\r\n",
    "    \"\"\"\r\n",
    "    Plot a scatter plot of the data\r\n",
    "    :param data: data to plot\r\n",
    "    :param clusters: cluster labels\r\n",
    "    :param centers: cluster centers\r\n",
    "    :param title: title of the plot\r\n",
    "    \"\"\"\r\n",
    "    \r\n",
    "    fig = plt.figure()\r\n",
    "    axis = fig.add_subplot(1, 1, 1, projection=\"3d\")\r\n",
    "    axis.set_xlabel(\"Red\")\r\n",
    "    axis.set_ylabel(\"Green\")\r\n",
    "    axis.set_zlabel(\"Blue\", rotation=90, labelpad=-1)\r\n",
    "    if title is not None:\r\n",
    "        plt.title(title)\r\n",
    "    if clusters is None:\r\n",
    "        axis.scatter(data[:,0], data[:,1], data[:,2], marker=\"o\", c=data, s=5)\r\n",
    "    else:\r\n",
    "        axis.scatter(data[:,0], data[:,1], data[:,2], marker=\"o\", c=clusters, s=1, cmap='viridis', zorder=0, alpha=0.5 )\r\n",
    "    if centers is not None:\r\n",
    "        axis.scatter(centers[:,0], centers[:,1], centers[:,2], c='red', s=400, zorder=10)\r\n",
    "    plt.tight_layout()\r\n",
    "    plt.show()\r\n",
    "    plt.close()"
   ],
   "outputs": [],
   "metadata": {}
  },
  {
   "cell_type": "code",
   "execution_count": null,
   "source": [
    "def scatter_plot_2d(x: np.ndarray, y: np.ndarray = None, centers: np.ndarray = None, title: str = None) -> None:\r\n",
    "    \"\"\"\r\n",
    "    Plot a scatter plot of the data\r\n",
    "    :param x: data to plot\r\n",
    "    :param y: cluster labels\r\n",
    "    :param centers: cluster centers\r\n",
    "    :param title: title of the plot\r\n",
    "    \"\"\"\r\n",
    "\r\n",
    "    fig = plt.figure()\r\n",
    "    plt.scatter(x[:,0], x[:,1], c=y, marker=\"o\", s=10, cmap='viridis')\r\n",
    "    plt.scatter(centers[:,0], centers[:,1], c='black', s=200, alpha=0.5)\r\n",
    "    if title is not None:\r\n",
    "        plt.title(title)\r\n",
    "    plt.tight_layout()\r\n",
    "    plt.show()\r\n",
    "    plt.close()"
   ],
   "outputs": [],
   "metadata": {}
  },
  {
   "cell_type": "code",
   "execution_count": null,
   "source": [
    "def error_plot(errors: np.ndarray, labels: np.ndarray = None) -> None:\r\n",
    "    \"\"\"\r\n",
    "    Plot the errors over the iterations\r\n",
    "    :param errors: errors to plot\r\n",
    "    \"\"\"\r\n",
    "    \r\n",
    "    if labels is None:\r\n",
    "        plt.plot(errors[1:-1])\r\n",
    "        plt.plot(errors[1:-1], 'ro')\r\n",
    "    else:\r\n",
    "        plt.plot(labels, errors)\r\n",
    "        plt.plot(labels, errors, 'ro')\r\n",
    "    plt.title('Error over iterations')\r\n",
    "    plt.ylabel('Error')\r\n",
    "    plt.xlabel('Iteration #')\r\n",
    "    plt.grid()\r\n",
    "    plt.tight_layout()\r\n",
    "    plt.show()\r\n",
    "    plt.close()"
   ],
   "outputs": [],
   "metadata": {}
  },
  {
   "cell_type": "code",
   "execution_count": null,
   "source": [
    "def cluster_plot(labels: np.ndarray, x: np.ndarray, title: str = None) -> None:\r\n",
    "    \"\"\"\r\n",
    "    Plot the clusters\r\n",
    "    :param labels: cluster labels\r\n",
    "    :param x: data\r\n",
    "    :param title: title of the plot\r\n",
    "    \"\"\"\r\n",
    "    \r\n",
    "    # Black removed and is used for noise instead.\r\n",
    "    unique_labels = set(labels)\r\n",
    "    colors = [plt.cm.Spectral(each)\r\n",
    "            for each in np.linspace(0, 1, len(unique_labels))]\r\n",
    "    for k, col in zip(unique_labels, colors):\r\n",
    "        if k == -1:\r\n",
    "            # Black used for noise.\r\n",
    "            col = [0, 0, 0, 1]\r\n",
    "\r\n",
    "        class_member_mask = (labels == k)\r\n",
    "\r\n",
    "        xy = x[class_member_mask ]\r\n",
    "        plt.plot(xy[:, 0], xy[:, 1], 'o', markerfacecolor=tuple(col),\r\n",
    "                markeredgecolor='k', markersize=14)\r\n",
    "\r\n",
    "        xy = x[class_member_mask ]\r\n",
    "        plt.plot(xy[:, 0], xy[:, 1], 'o', markerfacecolor=tuple(col),\r\n",
    "                markeredgecolor='k', markersize=6)\r\n",
    "\r\n",
    "    if title is not None:\r\n",
    "        plt.title(title)\r\n",
    "    plt.tight_layout()\r\n",
    "    plt.show()\r\n",
    "    plt.close()"
   ],
   "outputs": [],
   "metadata": {}
  },
  {
   "cell_type": "markdown",
   "source": [
    "---"
   ],
   "metadata": {}
  },
  {
   "cell_type": "markdown",
   "source": [
    "## A) K-means clustering\n",
    "\n",
    "### TO DO (A.0)\n",
    "    \n",
    "**Set** the random **seed** using your **ID**. If you need to change it for testing add a constant explicitly, eg.: 1234567 + 1"
   ],
   "metadata": {}
  },
  {
   "cell_type": "code",
   "execution_count": null,
   "source": [
    "# Fix your ID (\"numero di matricola\") and the seed for random generator\r\n",
    "# as usual you can try different seeds by adding a constant to the number:\r\n",
    "# ID = 1234567 + X\r\n",
    "ID = 2122169 \r\n",
    "np.random.seed(ID)"
   ],
   "outputs": [],
   "metadata": {}
  },
  {
   "cell_type": "code",
   "execution_count": null,
   "source": [
    "# Load the provided images and display them (if you like you can experiment with other images)\r\n",
    "# To load the images use the function plt.imread(<path_to_iamge>)\r\n",
    "landscape = plt.imread(\"./data/landscape.jpg\")\r\n",
    "reindeer = plt.imread(\"./data/reindeer.jpg\")\r\n",
    "santaclaus = plt.imread(\"./data/santaclaus2.jpg\")\r\n",
    "\r\n",
    "# Plot the images with their shapes\r\n",
    "# Sugestion: use the function img_plot()\r\n",
    "img_plot(landscape,\"Landscape\")\r\n",
    "img_plot(reindeer,\"Reindeer\")\r\n",
    "img_plot(santaclaus,\"Santa Claus\")"
   ],
   "outputs": [],
   "metadata": {}
  },
  {
   "cell_type": "markdown",
   "source": [
    "We are going to start by using the Santa Claus image.\n"
   ],
   "metadata": {}
  },
  {
   "cell_type": "code",
   "execution_count": null,
   "source": [
    "# Reshape the data to a matrix of num_pixels x 3 \r\n",
    "# (divide by 255 to have colors in [0 1] range for plotting functions of sklearn)\r\n",
    "santaclaus_my = np.reshape(santaclaus,(santaclaus.shape[0]*santaclaus.shape[1],santaclaus.shape[2]))\r\n",
    "santaclaus_my = santaclaus_my/255\r\n",
    "santaclaus_sk = santaclaus_my.copy()\r\n",
    "\r\n",
    "# Print the shape of the data and the min and max values of the pixels\r\n",
    "print(santaclaus_my.shape)\r\n",
    "print(\"Max value of Red: \" + str(santaclaus_my[:,0].max()))\r\n",
    "print(\"Min value of Red: \" + str(santaclaus_my[:,0].min()))\r\n",
    "print(\"Max value of Green: \" + str(santaclaus_my[:,1].max()))\r\n",
    "print(\"Min value of Green: \" + str(santaclaus_my[:,1].min()))\r\n",
    "print(\"Max value of Blue: \" + str(santaclaus_my[:,2].max()))\r\n",
    "print(\"Min value of Blue: \" + str(santaclaus_my[:,2].min()))"
   ],
   "outputs": [],
   "metadata": {}
  },
  {
   "cell_type": "markdown",
   "source": [
    "Plot the points in the 3-dimensional space with normalized intervals between 0 and 1 (corresponding to the three channels of the image, i.e. Red Green and Blue)"
   ],
   "metadata": {}
  },
  {
   "cell_type": "code",
   "execution_count": null,
   "source": [
    "# Sugestion: use the function scatter_plot()\r\n",
    "scatter_plot(santaclaus_my)"
   ],
   "outputs": [],
   "metadata": {}
  },
  {
   "cell_type": "markdown",
   "source": [
    "### TO DO (A.1)\n",
    "Implement the k-means algorithm manually (**do not use the kmeans function of sklearn and do not download implementations from other web sources**). The inputs to the function is the set of vectors to be clustered and the number of clusters. The output must contain the clusters barycenters, a vector associating each data point to the corresponding cluster and the error (value of the cost function) at each iteration.\n",
    "Additionally, fix a maximum number of iterations of the k-means algorithm (e.g., 50).\n",
    "\n",
    "Be careful about the initalization, you can use some random points from the training set, or get random values but ensure they are in the proper range. Poor initalizations can lead to the failure of the algorithm (in particular check that no cluster is initialized as empty, otherwise the algorithm can not update it)."
   ],
   "metadata": {}
  },
  {
   "cell_type": "code",
   "execution_count": null,
   "source": [
    "def my_kmeans(points: np.ndarray, k: int, max_iters: int = 50) -> tp.Tuple[np.ndarray, np.ndarray, list]:\r\n",
    "    \"\"\"\r\n",
    "    Perform K-means clustering\r\n",
    "    :param points: data points\r\n",
    "    :param k: number of clusters\r\n",
    "    :param max_iters: maximum number of iterations\r\n",
    "    \"\"\"\r\n",
    "\r\n",
    "    # Generate random centers\r\n",
    "    # use sigma and mean to ensure it represent the whole data\r\n",
    "    \r\n",
    "    sigma = np.std(points, axis=0)\r\n",
    "    mean = np.mean(points, axis=0)\r\n",
    "    centroids = np.zeros((k,3))\r\n",
    "    for i in range(k):\r\n",
    "        centroids[i,:] = [np.random.normal(loc = mean[0], scale = sigma[0]),np.random.normal(loc = mean[1], scale = sigma[1]),np.random.normal(loc = mean[2], scale = sigma[2])]\r\n",
    "\r\n",
    "    #add control that every cluster is not empty\r\n",
    "    prev_error = 100000\r\n",
    "    error = [9999]\r\n",
    "    \r\n",
    "    # Iterate until the estimate of that center stays the same or max iteration are reached\r\n",
    "    iters = 0\r\n",
    "    while (error[iters] != prev_error) and iters < max_iters:\r\n",
    "        # Measure the distance to every center\r\n",
    "        dist = np.zeros((len(points),k))\r\n",
    "        for i in range(len(points)):\r\n",
    "            dist[i] = np.sqrt(np.sum((points[i]-centroids)**2,axis=1))\r\n",
    "        # Assign all training data to closest center\r\n",
    "        clusters = np.append(points, np.argmin(dist, axis=1)[:,np.newaxis], axis = 1)\r\n",
    "        # Calculate mean for every cluster and update the center\r\n",
    "        for i in range(k):\r\n",
    "            mean = np.mean(clusters[clusters[:,3]==i],axis=0)\r\n",
    "            centroids[i] = mean[0:3]\r\n",
    "        # Update the error\r\n",
    "        prev_error = error[iters]\r\n",
    "        error_tmp = 0\r\n",
    "        for i in range(k):\r\n",
    "            for point in clusters[clusters[:,3] == i]:\r\n",
    "                error_tmp += np.linalg.norm(point[0:3]-centroids[i])**2\r\n",
    "        error.append(error_tmp)\r\n",
    "        #error = np.append(error,np.sum(((dist[:,np.argmin(dist, axis=1)[:,np.newaxis]])[:,0])**2))\r\n",
    "        # Update the iteration counter\r\n",
    "        iters += 1\r\n",
    "\r\n",
    "    return centroids, clusters, error"
   ],
   "outputs": [],
   "metadata": {}
  },
  {
   "cell_type": "markdown",
   "source": [
    "### TO DO (A.2)\n",
    "\n",
    "Now try the function you developed on the Santaclaus image with three clusters (k=3). \n",
    "\n",
    "Then plot the data points in the 3-dimensional space, each point must be coloured based on the membership to one of the clusters. Additionally, plot the respective clusters centroids (use a different shape, size or color to highlight the centroids)."
   ],
   "metadata": {}
  },
  {
   "cell_type": "code",
   "execution_count": null,
   "source": [
    "# Run your K-means function on the data\r\n",
    "centroids,clusters,error = my_kmeans(points=santaclaus_my,k=3)\r\n",
    "\r\n",
    "# Print the errors:\r\n",
    "print(error)\r\n",
    "\r\n",
    "# Plot the results\r\n",
    "scatter_plot(data=clusters[:,0:3],clusters=clusters[:,3],centers=centroids)"
   ],
   "outputs": [],
   "metadata": {}
  },
  {
   "cell_type": "markdown",
   "source": [
    "### TO DO (A.3) \n",
    "Plot the value of the error versus the number of iterations"
   ],
   "metadata": {}
  },
  {
   "cell_type": "code",
   "execution_count": null,
   "source": [
    "# Sugestion: use the function error_plot()\r\n",
    "error_plot(errors=error)"
   ],
   "outputs": [],
   "metadata": {}
  },
  {
   "cell_type": "markdown",
   "source": [
    "### TO DO (A.4)\n",
    "Now use the k-means function provided in sklearn. Pass to the function the number of clusters and use multiple random initializations (n_init parameter). Go to the documentation page for further details"
   ],
   "metadata": {}
  },
  {
   "cell_type": "code",
   "execution_count": null,
   "source": [
    "# Define the K-means model\r\n",
    "km = KMeans(n_clusters=3,n_init=10)\r\n",
    "\r\n",
    "# Fit the model to the data\r\n",
    "km.fit(X=santaclaus_sk)\r\n",
    "\r\n",
    "# Get the cluster centers\r\n",
    "centers=km.cluster_centers_"
   ],
   "outputs": [],
   "metadata": {}
  },
  {
   "cell_type": "markdown",
   "source": [
    "Perform the same plot as above but with the output of the k-means function provided in sklearn."
   ],
   "metadata": {}
  },
  {
   "cell_type": "code",
   "execution_count": null,
   "source": [
    "scatter_plot(data=santaclaus_sk,clusters=km.fit_predict(X=santaclaus_sk),centers=centers)"
   ],
   "outputs": [],
   "metadata": {}
  },
  {
   "cell_type": "markdown",
   "source": [
    "### TO DO (A.Q1) [Answare the following] \n",
    "\n",
    "Compare the results obtained with your implementation and with k-means from sklearn. Do you observe any differences, *i.e.*, do the two plots match?"
   ],
   "metadata": {}
  },
  {
   "cell_type": "markdown",
   "source": [
    "**ANSWER A.Q2:** Answer here"
   ],
   "metadata": {}
  },
  {
   "cell_type": "markdown",
   "source": [
    "### TO DO (A.5)\n",
    "\n",
    "Now display the segmented image based on the two clusters found above with the k-means functions by sklearn."
   ],
   "metadata": {}
  },
  {
   "cell_type": "code",
   "execution_count": null,
   "source": [
    "# Extarct the color values of the centers\r\n",
    "center_color = centers\r\n",
    "santaclaus_sk = center_color[km.fit_predict(X=santaclaus_sk)]\r\n",
    "\r\n",
    "# Reshape the data to the original image shape\r\n",
    "santaclaus_sk_reshaped = np.reshape(santaclaus_sk,(santaclaus.shape[0],santaclaus.shape[1],santaclaus.shape[2]))\r\n",
    "\r\n",
    "# Plot the recolored image\r\n",
    "img_plot(santaclaus_sk_reshaped)"
   ],
   "outputs": [],
   "metadata": {}
  },
  {
   "cell_type": "markdown",
   "source": [
    "Now display the segmented image based on the two clusters found above with the k-means functions implemented by yourselves."
   ],
   "metadata": {}
  },
  {
   "cell_type": "code",
   "execution_count": null,
   "source": [
    "# Extract the color values of the centers\r\n",
    "center_color = centroids\r\n",
    "santaclaus_my = center_color[clusters[:,3].astype(int)]\r\n",
    "\r\n",
    "# Reshape the data to the original image shape\r\n",
    "santaclaus_my_reshaped = np.reshape(santaclaus_my,(santaclaus.shape[0],santaclaus.shape[1],santaclaus.shape[2]))\r\n",
    "\r\n",
    "# Plot the recolored image\r\n",
    "img_plot(santaclaus_my_reshaped)"
   ],
   "outputs": [],
   "metadata": {}
  },
  {
   "cell_type": "markdown",
   "source": [
    "### TO DO (A.Q2) [Answare the following]\n",
    "\n",
    "What do you observe? Do you think clustering is useful for image segmenation? And for image compression? Comment your answer."
   ],
   "metadata": {}
  },
  {
   "cell_type": "markdown",
   "source": [
    "**ANSWER A.Q1:** Answer here"
   ],
   "metadata": {}
  },
  {
   "cell_type": "markdown",
   "source": [
    "### TO DO (A.6)\n",
    "\n",
    "Now load the landscape image (optional: try also with the reindeer image) and segment it using kmeans with k varying from 2 to 15 clusters. You can use the sklearn implementation.\n",
    "\n",
    "Then plot the resulting data points in the 3-dimensional space, each point must be colored based on the cluster membership."
   ],
   "metadata": {}
  },
  {
   "cell_type": "code",
   "execution_count": null,
   "source": [
    "# Reshape the data to a matrix of total_num_pixels x 3\r\n",
    "reindeer_sk = np.reshape(reindeer,(reindeer.shape[0]*reindeer.shape[1],reindeer.shape[2]))\r\n",
    "reindeer_sk = reindeer_sk/255\r\n",
    "\r\n",
    "# Print the shape of the data and the min and max values of the pixels\r\n",
    "print(reindeer_sk.shape)\r\n",
    "print(\"Max value of Red: \" + str(reindeer_sk[:,0].max()))\r\n",
    "print(\"Min value of Red: \" + str(reindeer_sk[:,0].min()))\r\n",
    "print(\"Max value of Green: \" + str(reindeer_sk[:,1].max()))\r\n",
    "print(\"Min value of Green: \" + str(reindeer_sk[:,1].min()))\r\n",
    "print(\"Max value of Blue: \" + str(reindeer_sk[:,2].max()))\r\n",
    "print(\"Min value of Blue: \" + str(reindeer_sk[:,2].min()))\r\n",
    "\r\n",
    "# Cycle over different values of K and plot the results for each value\r\n",
    "print('\\nK-means clustering with different values of K (2-15):')\r\n",
    "inertia = list()\r\n",
    "for k in range(2,16):\r\n",
    "    # Define the K-means model\r\n",
    "    km = KMeans(n_clusters=k, n_init=10)\r\n",
    "\r\n",
    "    # Fit the model to the data\r\n",
    "    km.fit(X=reindeer_sk)\r\n",
    "\r\n",
    "    # Get the cluster centers\r\n",
    "    centers = km.cluster_centers_\r\n",
    "\r\n",
    "    # Extarct the color values of the centers\r\n",
    "    center_color = centers\r\n",
    "    reindeer_sk = center_color[km.labels_]\r\n",
    "\r\n",
    "    # Reshape the data to the original image shape\r\n",
    "    reindeer_sk_reshaped = np.reshape(reindeer_sk,(reindeer.shape[0],reindeer.shape[1],reindeer.shape[2]))\r\n",
    "\r\n",
    "    # Update the inertia\r\n",
    "    inertia.append(km.inertia_)\r\n",
    "    \r\n",
    "    # Plot the scatter plot and the ricolored imag\r\n",
    "    scatter_plot(data=reindeer_sk,clusters=km.labels_,centers=centers)\r\n",
    "\r\n",
    "    # Plot the recolored image\r\n",
    "    img_plot(reindeer_sk_reshaped)"
   ],
   "outputs": [],
   "metadata": {}
  },
  {
   "cell_type": "markdown",
   "source": [
    "### TO DO (A.7)\n",
    "\n",
    "Plot for different values of k (e.g. k between 2 and 15) the respective error of the kmeans algorithm "
   ],
   "metadata": {}
  },
  {
   "cell_type": "code",
   "execution_count": 37,
   "source": [
    "fig, (ax1, ax2) = plt.subplots(1, 2, figsize=(12, 4))\r\n",
    "\r\n",
    "ax1.plot([i for i in range(2, 16)], inertia)\r\n",
    "ax1.set_title('Inertia vs. N. of Clusters')\r\n",
    "ax1.set_xlabel('Number of Clusters')\r\n",
    "ax1.set_ylabel('Inertia')\r\n",
    "\r\n",
    "ax2.plot([i for i in range(3, 16)], inertia[1:])\r\n",
    "ax2.set_title('Inertia vs. N. of Clusters, Start from K=3')\r\n",
    "ax2.set_xlabel('Number of Clusters')\r\n",
    "ax2.set_ylabel('Inertia')"
   ],
   "outputs": [
    {
     "output_type": "execute_result",
     "data": {
      "text/plain": [
       "Text(0, 0.5, 'Inertia')"
      ]
     },
     "metadata": {},
     "execution_count": 37
    },
    {
     "output_type": "display_data",
     "data": {
      "text/plain": [
       "<Figure size 1200x400 with 2 Axes>"
      ],
      "image/png": "[encoded data removed]"
     },
     "metadata": {}
    }
   ],
   "metadata": {}
  },
  {
   "cell_type": "markdown",
   "source": [
    "### TO DO (AQ.3) [Answare the following]\n",
    "\n",
    "Compare the results with different values of k, what do you observe? \n",
    "\n",
    "Analyze also the error, which one do you think is the optimal value of k?\n",
    "\n",
    "Is there a single, clear answer?"
   ],
   "metadata": {}
  },
  {
   "cell_type": "markdown",
   "source": [
    "**ANSWER A.Q3:** Answer here"
   ],
   "metadata": {}
  },
  {
   "cell_type": "markdown",
   "source": [
    "---"
   ],
   "metadata": {}
  },
  {
   "cell_type": "markdown",
   "source": [
    "## B) Linkage-based clustering\n",
    "\n",
    "The second part of the assignment concern instead linkage-based clustering. We will use the AgglomerativeClustering module of sklearn. "
   ],
   "metadata": {}
  },
  {
   "cell_type": "markdown",
   "source": [
    "### TO DO (B.0)\n",
    "\n",
    "Load the sample dataset located at `data/moon_data.npz`"
   ],
   "metadata": {}
  },
  {
   "cell_type": "code",
   "execution_count": null,
   "source": [
    "# Load sample data\r\n",
    "data = None # ADD YOUR CODE HERE (use np.load())\r\n",
    "\r\n",
    "# Extract data\r\n",
    "x = data['X']\r\n",
    "labels_true = data['labels_true']"
   ],
   "outputs": [],
   "metadata": {}
  },
  {
   "cell_type": "markdown",
   "source": [
    "### TO DO (B.1)\n",
    "\n",
    "Now exploit the AgglomerativeClustering algorithm from the sklearn library on the provided sample data points. Use the \"single\" linkage type that correspond to the minimum distance criteria seen in the lectures and 2 clusters. Notice that the \"single\" option has been introduced recently in sklearn, if you get an error ensure you have a recent version of the library. Plot the resulting clustering."
   ],
   "metadata": {}
  },
  {
   "cell_type": "code",
   "execution_count": null,
   "source": [
    "# Compute Agglomerative Clustering\r\n",
    "# Define the Agglomerative Clustering model\r\n",
    "# ADD YOUR CODE HERE\r\n",
    "\r\n",
    "# Fit the model to the data\r\n",
    "# ADD YOUR CODE HERE\r\n",
    "\r\n",
    "# Compute the number of clusters in labels, ignoring noise if present.\r\n",
    "# ADD YOUR CODE HERE\r\n",
    "\r\n",
    "# Print the results\r\n",
    "# ADD YOUR CODE HERE"
   ],
   "outputs": [],
   "metadata": {}
  },
  {
   "cell_type": "code",
   "execution_count": null,
   "source": [
    "# Plot result \r\n",
    "# Sugestion: use the function cluster_plot()\r\n",
    "# ADD YOUR CODE HERE"
   ],
   "outputs": [],
   "metadata": {}
  },
  {
   "cell_type": "markdown",
   "source": [
    "### TO DO (B.2)\n",
    "\n",
    "Now try the KMeans with two clusters on the same dataset we used for the AgglomerativeClustering algorithm."
   ],
   "metadata": {}
  },
  {
   "cell_type": "code",
   "execution_count": null,
   "source": [
    "# Define the K-means model\r\n",
    "# ADD YOUR CODE HERE\r\n",
    "\r\n",
    "# Fit the model to the data\r\n",
    "# ADD YOUR CODE HERE\r\n",
    "\r\n",
    "# Get the cluster centers\r\n",
    "# ADD YOUR CODE HERE\r\n",
    "\r\n",
    "# Extarct the color values of the centers\r\n",
    "# ADD YOUR CODE HERE\r\n",
    "\r\n",
    "# Plot the results\r\n",
    "# Sugestion: use the function scatter_plot_2d()\r\n",
    "# ADD YOUR CODE HERE"
   ],
   "outputs": [],
   "metadata": {}
  },
  {
   "cell_type": "markdown",
   "source": [
    "### TO DO (B.Q1) [Answare the following]\n",
    "\n",
    "Compare the results of K-means and Agglomerative Clustering and explain what you observe and why?"
   ],
   "metadata": {}
  },
  {
   "cell_type": "markdown",
   "source": [
    "**ANSWER B.Q1:** Answer here"
   ],
   "metadata": {}
  },
  {
   "cell_type": "markdown",
   "source": [
    "---"
   ],
   "metadata": {}
  }
 ],
 "metadata": {
  "kernelspec": {
   "name": "python3",
   "display_name": "Python 3.10.6 64-bit"
  },
  "language_info": {
   "codemirror_mode": {
    "name": "ipython",
    "version": 3
   },
   "file_extension": ".py",
   "mimetype": "text/x-python",
   "name": "python",
   "nbconvert_exporter": "python",
   "pygments_lexer": "ipython3",
   "version": "3.10.6"
  },
  "interpreter": {
   "hash": "53108ee2c702583927ca0c77e82f621dc2b0eae98652c0ffab9887bc99f95776"
  }
 },
 "nbformat": 4,
 "nbformat_minor": 2
}